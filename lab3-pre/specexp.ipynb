{
 "cells": [
  {
   "cell_type": "code",
   "execution_count": null,
   "metadata": {},
   "outputs": [],
   "source": [
    "import struct\n",
    "from matplotlib import pyplot as plt \n",
    "import cv2 \n",
    "import numpy as np\n",
    "\n",
    "def raw_imread(filename):\n",
    "    fp = open(filename, 'rb')\n",
    "    w, = struct.unpack(\"<i\", fp.read(4))\n",
    "    h, = struct.unpack(\"<i\", fp.read(4))\n",
    "    print(w,h)\n",
    "    a = [[struct.unpack(\"<H\", fp.read(2))[0] for i in range(w)] for i in range(h)]\n",
    "    return np.float32(a)"
   ]
  },
  {
   "cell_type": "code",
   "execution_count": null,
   "metadata": {},
   "outputs": [],
   "source": [
    "img = raw_imread(\"lung.raw\")"
   ]
  },
  {
   "cell_type": "code",
   "execution_count": null,
   "metadata": {},
   "outputs": [],
   "source": [
    "def imshow(img):\n",
    "    plt.figure(figsize = (50,50))\n",
    "    plt.imshow(img, cmap='gray')\n",
    "\n",
    "def imshows(imgs):\n",
    "    plt.figure(figsize = (50,50))\n",
    "    for i,img in enumerate(imgs):\n",
    "        plt.subplot(1,len(imgs),i+1)\n",
    "        plt.imshow(img, cmap='gray')"
   ]
  },
  {
   "cell_type": "code",
   "execution_count": null,
   "metadata": {},
   "outputs": [],
   "source": [
    "\n",
    "def f(img, sigma):\n",
    "    g1 = cv2.getGaussianKernel(19, sigma)\n",
    "    g = g1 * g1.T\n",
    "    dst = cv2.filter2D(img, -1, g)\n",
    "    a = dst\n",
    "    return a\n"
   ]
  },
  {
   "cell_type": "code",
   "execution_count": null,
   "metadata": {},
   "outputs": [],
   "source": [
    "imshows([f(img, 1)-f(img, 0.1),f(img, 3)-f(img, 1),f(img, 5)-f(img, 3)])"
   ]
  }
 ],
 "metadata": {
  "interpreter": {
   "hash": "753b3b938ab180c76750b94459c65ef078bd5597468dfb8aad34d67534b01b6b"
  },
  "kernelspec": {
   "display_name": "Python 3.7.11 64-bit ('pytorch_gpu': conda)",
   "name": "python3"
  },
  "language_info": {
   "codemirror_mode": {
    "name": "ipython",
    "version": 3
   },
   "file_extension": ".py",
   "mimetype": "text/x-python",
   "name": "python",
   "nbconvert_exporter": "python",
   "pygments_lexer": "ipython3",
   "version": "3.7.11"
  },
  "orig_nbformat": 4
 },
 "nbformat": 4,
 "nbformat_minor": 2
}
