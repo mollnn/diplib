{
 "cells": [
  {
   "cell_type": "code",
   "execution_count": null,
   "metadata": {},
   "outputs": [],
   "source": [
    "import struct\n",
    "def raw_imread(filename):\n",
    "    fp = open(filename, 'rb')\n",
    "    w, = struct.unpack(\"<i\", fp.read(4))\n",
    "    h, = struct.unpack(\"<i\", fp.read(4))\n",
    "    print(w,h)\n",
    "    a = [[struct.unpack(\"<H\", fp.read(2))[0] for i in range(w)] for i in range(h)]\n",
    "    return a "
   ]
  },
  {
   "cell_type": "code",
   "execution_count": null,
   "metadata": {},
   "outputs": [],
   "source": [
    "from matplotlib import pyplot as plt \n",
    "import cv2 \n",
    "img = raw_imread(\"lung.raw\")\n",
    "plt.imshow([[[i] for i in j] for j in img], cmap=\"gray\")\n",
    "plt.show()"
   ]
  },
  {
   "cell_type": "code",
   "execution_count": null,
   "metadata": {},
   "outputs": [],
   "source": [
    "import numpy as np\n",
    "img = np.array(img, dtype='uint16')\n",
    "plt.imshow(img, cmap='gray')"
   ]
  },
  {
   "cell_type": "code",
   "execution_count": null,
   "metadata": {},
   "outputs": [],
   "source": [
    "dft = np.fft.fftshift(cv2.dft(np.float32(img), flags = cv2.DFT_COMPLEX_OUTPUT))\n",
    "plt.figure(figsize=(20,10))\n",
    "dft_a, dft_p = cv2.cartToPolar(dft[:,:,0], dft[:,:,1])\n",
    "plt.imshow(20*np.log(dft_a), cmap=\"gray\")"
   ]
  },
  {
   "cell_type": "code",
   "execution_count": null,
   "metadata": {},
   "outputs": [],
   "source": [
    "h, w = img.shape"
   ]
  },
  {
   "cell_type": "code",
   "execution_count": null,
   "metadata": {},
   "outputs": [],
   "source": [
    "mask = np.zeros((h, w), np.float32)\n",
    "h2, w2 = h//2, w//2\n",
    "mask[h2-30:h2+30, w2-20:w2+20] = 1\n",
    "plt.imshow(mask[:,:])"
   ]
  },
  {
   "cell_type": "code",
   "execution_count": null,
   "metadata": {},
   "outputs": [],
   "source": [
    "dft_a *= mask\n",
    "plt.imshow(20*np.log(dft_a))"
   ]
  },
  {
   "cell_type": "code",
   "execution_count": null,
   "metadata": {},
   "outputs": [],
   "source": [
    "spec = np.zeros((h, w, 2), np.float32)\n",
    "p, q = cv2.polarToCart(dft_a, dft_p)\n",
    "spec[:,:,0] = p\n",
    "spec[:,:,1] = q\n",
    "print(spec.shape)"
   ]
  },
  {
   "cell_type": "code",
   "execution_count": null,
   "metadata": {},
   "outputs": [],
   "source": [
    "ifft = cv2.idft(np.fft.ifftshift(spec))\n",
    "plt.figure(figsize=(20,10))\n",
    "img_blur = cv2.magnitude(ifft[:,:,0], ifft[:,:,1])\n",
    "img_blur = img_blur / 1776 / 966\n",
    "print(np.max(img_blur))\n",
    "plt.imshow(img_blur, cmap='gray')"
   ]
  },
  {
   "cell_type": "code",
   "execution_count": null,
   "metadata": {},
   "outputs": [],
   "source": [
    "img_l = img_blur\n",
    "img_h = img - img_l \n",
    "print(np.max(img_l), np.max(img_h), np.max(img))\n",
    "plt.figure(figsize=(25,10))\n",
    "plt.subplot(131)\n",
    "plt.imshow(img, cmap='gray')\n",
    "plt.subplot(132)\n",
    "plt.imshow(img_h, cmap='gray')\n",
    "plt.subplot(133)\n",
    "plt.imshow(img + 1.0 * img_h, cmap='gray')"
   ]
  },
  {
   "cell_type": "code",
   "execution_count": null,
   "metadata": {},
   "outputs": [],
   "source": [
    "img_g = np.float32([[max(min(x, 500), 0) for x in u] for u in img])"
   ]
  },
  {
   "cell_type": "code",
   "execution_count": null,
   "metadata": {},
   "outputs": [],
   "source": [
    "g1 = cv2.getGaussianKernel(11, 0.5)\n",
    "g = g1 * g1.T\n",
    "dst = cv2.filter2D(img, -1, g)"
   ]
  },
  {
   "cell_type": "code",
   "execution_count": null,
   "metadata": {},
   "outputs": [],
   "source": [
    "g2 = cv2.getGaussianKernel(11, 1)\n",
    "gg = g2 * g2.T\n",
    "dst2 = cv2.filter2D(img, -1, gg)"
   ]
  },
  {
   "cell_type": "code",
   "execution_count": null,
   "metadata": {},
   "outputs": [],
   "source": [
    "plt.figure(figsize=(40,40))\n",
    "img_h = img + (-1) * dst + (+0.5) * (img + (-1) * dst2)\n",
    "plt.subplot(121)\n",
    "plt.imshow(img_g, cmap='gray')\n",
    "plt.subplot(122)\n",
    "img_usm = img + 10 * img_h\n",
    "print(np.min(dst), np.max(dst))\n",
    "print(np.min(img), np.max(img))\n",
    "print(np.min(img_h), np.max(img_h))\n",
    "img_usm_g = np.float32([[max(min(x, 500), 0) for x in u] for u in img_usm])\n",
    "plt.imshow(img_usm_g, cmap='gray')"
   ]
  },
  {
   "cell_type": "code",
   "execution_count": null,
   "metadata": {},
   "outputs": [],
   "source": [
    "img = img[:700, :700]"
   ]
  },
  {
   "cell_type": "code",
   "execution_count": null,
   "metadata": {},
   "outputs": [],
   "source": [
    "def f(sigma):\n",
    "    g1 = cv2.getGaussianKernel(11, sigma)\n",
    "    g = g1 * g1.T\n",
    "    dst = cv2.filter2D(img, -1, g)\n",
    "    a = dst\n",
    "    return a\n",
    "\n",
    "def gf(sig0, sigma, alpha):\n",
    "    g1 = cv2.getGaussianKernel(11, sigma)\n",
    "    g = g1 * g1.T\n",
    "    img_t = f(sig0)\n",
    "    dst = cv2.filter2D(img_t, -1, g)\n",
    "    a = img_t + (-1)*dst\n",
    "    a = alpha * a + img_t\n",
    "    a = a.clip(min=0, max=500)\n",
    "    return a\n",
    "\n",
    "plt.figure(figsize=(30,30))\n",
    "plt.imshow(gf(0.8, 1, 10), cmap='gray')\n"
   ]
  },
  {
   "cell_type": "code",
   "execution_count": null,
   "metadata": {},
   "outputs": [],
   "source": [
    "simg = img[500:550, 550:600]\n",
    "plt.imshow(simg, cmap='gray')"
   ]
  },
  {
   "cell_type": "code",
   "execution_count": null,
   "metadata": {},
   "outputs": [],
   "source": [
    "img=simg\n",
    "plt.imshow(f(1.5))"
   ]
  },
  {
   "cell_type": "code",
   "execution_count": null,
   "metadata": {},
   "outputs": [],
   "source": [
    "def f(sigma):\n",
    "    g1 = cv2.getGaussianKernel(19, sigma)\n",
    "    g = g1 * g1.T\n",
    "    dst = cv2.filter2D(img, -1, g)\n",
    "    a = dst\n",
    "    return a\n",
    "\n",
    "img_b = f(1.6)\n",
    "img_o = cv2.Laplacian(img_b,cv2.CV_32F, ksize = 3)\n",
    "img_l = img + (-5) * img_o\n",
    "plt.figure(figsize=(50,50))\n",
    "plt.subplot(121)\n",
    "plt.imshow(img.clip(0,4200), cmap='gray')\n",
    "plt.subplot(122)\n",
    "plt.imshow(img_l.clip(0,4200), cmap='gray')"
   ]
  }
 ],
 "metadata": {
  "interpreter": {
   "hash": "753b3b938ab180c76750b94459c65ef078bd5597468dfb8aad34d67534b01b6b"
  },
  "kernelspec": {
   "display_name": "Python 3.7.11 64-bit ('pytorch_gpu': conda)",
   "name": "python3"
  },
  "language_info": {
   "codemirror_mode": {
    "name": "ipython",
    "version": 3
   },
   "file_extension": ".py",
   "mimetype": "text/x-python",
   "name": "python",
   "nbconvert_exporter": "python",
   "pygments_lexer": "ipython3",
   "version": "3.7.11"
  },
  "orig_nbformat": 4
 },
 "nbformat": 4,
 "nbformat_minor": 2
}
