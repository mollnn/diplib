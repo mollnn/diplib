{
 "cells": [
  {
   "cell_type": "code",
   "execution_count": null,
   "metadata": {},
   "outputs": [],
   "source": [
    "from matplotlib import pyplot as plt\n",
    "import cv2\n",
    "import numpy as np\n",
    "import struct\n",
    "\n",
    "\n",
    "def raw_imread(filename):\n",
    "    fp = open(filename, 'rb')\n",
    "    w, = struct.unpack(\"<i\", fp.read(4))\n",
    "    h, = struct.unpack(\"<i\", fp.read(4))\n",
    "    print(w, h)\n",
    "    a = [[struct.unpack(\"<H\", fp.read(2))[0]\n",
    "          for i in range(w)] for i in range(h)]\n",
    "    return a\n",
    "\n",
    "\n",
    "img = raw_imread(\"lung.raw\")\n",
    "img = np.array(img, dtype='uint16')\n",
    "\n",
    "\n",
    "def f(sigma):\n",
    "    g1 = cv2.getGaussianKernel(19, sigma)\n",
    "    g = g1 * g1.T\n",
    "    dst = cv2.filter2D(img, -1, g)\n",
    "    a = dst\n",
    "    return a\n",
    "\n",
    "\n",
    "img_b = f(1.5)\n",
    "img_o = cv2.Laplacian(img_b, cv2.CV_32F, ksize=3)\n",
    "img_l = img + (-3) * img_o\n",
    "plt.figure(figsize=(50, 50))\n",
    "plt.subplot(121)\n",
    "plt.imshow(img.clip(2000, 4200), cmap='gray')\n",
    "plt.subplot(122)\n",
    "plt.imshow(img_l.clip(2000, 4200), cmap='gray')\n"
   ]
  },
  {
   "cell_type": "code",
   "execution_count": null,
   "metadata": {},
   "outputs": [],
   "source": []
  }
 ],
 "metadata": {
  "interpreter": {
   "hash": "753b3b938ab180c76750b94459c65ef078bd5597468dfb8aad34d67534b01b6b"
  },
  "kernelspec": {
   "display_name": "Python 3.7.11 64-bit ('pytorch_gpu': conda)",
   "name": "python3"
  },
  "language_info": {
   "codemirror_mode": {
    "name": "ipython",
    "version": 3
   },
   "file_extension": ".py",
   "mimetype": "text/x-python",
   "name": "python",
   "nbconvert_exporter": "python",
   "pygments_lexer": "ipython3",
   "version": "3.7.11"
  },
  "orig_nbformat": 4
 },
 "nbformat": 4,
 "nbformat_minor": 2
}
