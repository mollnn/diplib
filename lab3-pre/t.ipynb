{
 "cells": [
  {
   "cell_type": "code",
   "execution_count": 27,
   "metadata": {},
   "outputs": [
    {
     "data": {
      "text/plain": [
       "<matplotlib.collections.PathCollection at 0x1c4e531c608>"
      ]
     },
     "execution_count": 27,
     "metadata": {},
     "output_type": "execute_result"
    },
    {
     "data": {
      "image/png": "[encoded data removed]",
      "text/plain": [
       "<Figure size 432x288 with 1 Axes>"
      ]
     },
     "metadata": {
      "needs_background": "light"
     },
     "output_type": "display_data"
    }
   ],
   "source": [
    "import numpy as np\n",
    "from matplotlib import pyplot as plt\n",
    "x=np.arange(-8,9,1)\n",
    "# s=0.7/2/np.pi\n",
    "s = 0.05\n",
    "y=np.sqrt(2*np.pi)*s*1*np.exp(-2*np.pi*np.pi*s*s*np.power(x,2))\n",
    "plt.scatter(x,y)"
   ]
  },
  {
   "cell_type": "code",
   "execution_count": 27,
   "metadata": {},
   "outputs": [
    {
     "name": "stdout",
     "output_type": "stream",
     "text": [
      "[0.27406862 0.45186276 0.27406862]\n",
      "[0.05448868 0.24420134 0.40261995 0.24420134 0.05448868]\n",
      "[0.00443305 0.05400558 0.24203623 0.39905028 0.24203623 0.05400558\n",
      " 0.00443305]\n"
     ]
    }
   ],
   "source": [
    "import cv2\n",
    "print(np.concatenate(cv2.getGaussianKernel(3, 1),-1))\n",
    "print(np.concatenate(cv2.getGaussianKernel(5, 1),-1))\n",
    "print(np.concatenate(cv2.getGaussianKernel(7, 1),-1))"
   ]
  }
 ],
 "metadata": {
  "interpreter": {
   "hash": "753b3b938ab180c76750b94459c65ef078bd5597468dfb8aad34d67534b01b6b"
  },
  "kernelspec": {
   "display_name": "Python 3.7.11 64-bit ('pytorch_gpu': conda)",
   "name": "python3"
  },
  "language_info": {
   "codemirror_mode": {
    "name": "ipython",
    "version": 3
   },
   "file_extension": ".py",
   "mimetype": "text/x-python",
   "name": "python",
   "nbconvert_exporter": "python",
   "pygments_lexer": "ipython3",
   "version": "3.7.11"
  },
  "orig_nbformat": 4
 },
 "nbformat": 4,
 "nbformat_minor": 2
}
